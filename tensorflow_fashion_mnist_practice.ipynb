{
  "nbformat": 4,
  "nbformat_minor": 0,
  "metadata": {
    "colab": {
      "provenance": [],
      "authorship_tag": "ABX9TyMgbbRjFKNIQV5SQjV6PgsF",
      "include_colab_link": true
    },
    "kernelspec": {
      "name": "python3",
      "display_name": "Python 3"
    },
    "language_info": {
      "name": "python"
    }
  },
  "cells": [
    {
      "cell_type": "markdown",
      "metadata": {
        "id": "view-in-github",
        "colab_type": "text"
      },
      "source": [
        "<a href=\"https://colab.research.google.com/github/PRIEST099/tensorflow-image-classification-project/blob/master/tensorflow_fashion_mnist_practice.ipynb\" target=\"_parent\"><img src=\"https://colab.research.google.com/assets/colab-badge.svg\" alt=\"Open In Colab\"/></a>"
      ]
    },
    {
      "cell_type": "code",
      "execution_count": 1,
      "metadata": {
        "id": "9ybtH6Lt4tV8",
        "colab": {
          "base_uri": "https://localhost:8080/"
        },
        "outputId": "996116cd-701b-40ae-900e-efa33c05af3e"
      },
      "outputs": [
        {
          "output_type": "stream",
          "name": "stdout",
          "text": [
            "Downloading data from https://storage.googleapis.com/tensorflow/tf-keras-datasets/train-labels-idx1-ubyte.gz\n",
            "29515/29515 [==============================] - 0s 0us/step\n",
            "Downloading data from https://storage.googleapis.com/tensorflow/tf-keras-datasets/train-images-idx3-ubyte.gz\n",
            "26421880/26421880 [==============================] - 0s 0us/step\n",
            "Downloading data from https://storage.googleapis.com/tensorflow/tf-keras-datasets/t10k-labels-idx1-ubyte.gz\n",
            "5148/5148 [==============================] - 0s 0us/step\n",
            "Downloading data from https://storage.googleapis.com/tensorflow/tf-keras-datasets/t10k-images-idx3-ubyte.gz\n",
            "4422102/4422102 [==============================] - 0s 0us/step\n"
          ]
        }
      ],
      "source": [
        "import tensorflow as tf\n",
        "from tensorflow.keras.datasets import fashion_mnist\n",
        "\n",
        "(train_data, train_labels), (test_data, test_labels) = fashion_mnist.load_data()"
      ]
    },
    {
      "cell_type": "code",
      "source": [
        "# show the first training example\n",
        "print(f\"Training sample:\\n{train_data[0]}\\n\")\n",
        "print(f\"training label:\\n{train_labels}\\n\")"
      ],
      "metadata": {
        "colab": {
          "base_uri": "https://localhost:8080/"
        },
        "id": "_uPtLErMi329",
        "outputId": "5f0d08cc-a5d3-490f-9ec7-4dae6bc4dd50"
      },
      "execution_count": 2,
      "outputs": [
        {
          "output_type": "stream",
          "name": "stdout",
          "text": [
            "Training sample:\n",
            "[[  0   0   0   0   0   0   0   0   0   0   0   0   0   0   0   0   0   0\n",
            "    0   0   0   0   0   0   0   0   0   0]\n",
            " [  0   0   0   0   0   0   0   0   0   0   0   0   0   0   0   0   0   0\n",
            "    0   0   0   0   0   0   0   0   0   0]\n",
            " [  0   0   0   0   0   0   0   0   0   0   0   0   0   0   0   0   0   0\n",
            "    0   0   0   0   0   0   0   0   0   0]\n",
            " [  0   0   0   0   0   0   0   0   0   0   0   0   1   0   0  13  73   0\n",
            "    0   1   4   0   0   0   0   1   1   0]\n",
            " [  0   0   0   0   0   0   0   0   0   0   0   0   3   0  36 136 127  62\n",
            "   54   0   0   0   1   3   4   0   0   3]\n",
            " [  0   0   0   0   0   0   0   0   0   0   0   0   6   0 102 204 176 134\n",
            "  144 123  23   0   0   0   0  12  10   0]\n",
            " [  0   0   0   0   0   0   0   0   0   0   0   0   0   0 155 236 207 178\n",
            "  107 156 161 109  64  23  77 130  72  15]\n",
            " [  0   0   0   0   0   0   0   0   0   0   0   1   0  69 207 223 218 216\n",
            "  216 163 127 121 122 146 141  88 172  66]\n",
            " [  0   0   0   0   0   0   0   0   0   1   1   1   0 200 232 232 233 229\n",
            "  223 223 215 213 164 127 123 196 229   0]\n",
            " [  0   0   0   0   0   0   0   0   0   0   0   0   0 183 225 216 223 228\n",
            "  235 227 224 222 224 221 223 245 173   0]\n",
            " [  0   0   0   0   0   0   0   0   0   0   0   0   0 193 228 218 213 198\n",
            "  180 212 210 211 213 223 220 243 202   0]\n",
            " [  0   0   0   0   0   0   0   0   0   1   3   0  12 219 220 212 218 192\n",
            "  169 227 208 218 224 212 226 197 209  52]\n",
            " [  0   0   0   0   0   0   0   0   0   0   6   0  99 244 222 220 218 203\n",
            "  198 221 215 213 222 220 245 119 167  56]\n",
            " [  0   0   0   0   0   0   0   0   0   4   0   0  55 236 228 230 228 240\n",
            "  232 213 218 223 234 217 217 209  92   0]\n",
            " [  0   0   1   4   6   7   2   0   0   0   0   0 237 226 217 223 222 219\n",
            "  222 221 216 223 229 215 218 255  77   0]\n",
            " [  0   3   0   0   0   0   0   0   0  62 145 204 228 207 213 221 218 208\n",
            "  211 218 224 223 219 215 224 244 159   0]\n",
            " [  0   0   0   0  18  44  82 107 189 228 220 222 217 226 200 205 211 230\n",
            "  224 234 176 188 250 248 233 238 215   0]\n",
            " [  0  57 187 208 224 221 224 208 204 214 208 209 200 159 245 193 206 223\n",
            "  255 255 221 234 221 211 220 232 246   0]\n",
            " [  3 202 228 224 221 211 211 214 205 205 205 220 240  80 150 255 229 221\n",
            "  188 154 191 210 204 209 222 228 225   0]\n",
            " [ 98 233 198 210 222 229 229 234 249 220 194 215 217 241  65  73 106 117\n",
            "  168 219 221 215 217 223 223 224 229  29]\n",
            " [ 75 204 212 204 193 205 211 225 216 185 197 206 198 213 240 195 227 245\n",
            "  239 223 218 212 209 222 220 221 230  67]\n",
            " [ 48 203 183 194 213 197 185 190 194 192 202 214 219 221 220 236 225 216\n",
            "  199 206 186 181 177 172 181 205 206 115]\n",
            " [  0 122 219 193 179 171 183 196 204 210 213 207 211 210 200 196 194 191\n",
            "  195 191 198 192 176 156 167 177 210  92]\n",
            " [  0   0  74 189 212 191 175 172 175 181 185 188 189 188 193 198 204 209\n",
            "  210 210 211 188 188 194 192 216 170   0]\n",
            " [  2   0   0   0  66 200 222 237 239 242 246 243 244 221 220 193 191 179\n",
            "  182 182 181 176 166 168  99  58   0   0]\n",
            " [  0   0   0   0   0   0   0  40  61  44  72  41  35   0   0   0   0   0\n",
            "    0   0   0   0   0   0   0   0   0   0]\n",
            " [  0   0   0   0   0   0   0   0   0   0   0   0   0   0   0   0   0   0\n",
            "    0   0   0   0   0   0   0   0   0   0]\n",
            " [  0   0   0   0   0   0   0   0   0   0   0   0   0   0   0   0   0   0\n",
            "    0   0   0   0   0   0   0   0   0   0]]\n",
            "\n",
            "training label:\n",
            "[9 0 0 ... 3 0 5]\n",
            "\n"
          ]
        }
      ]
    },
    {
      "cell_type": "code",
      "source": [
        "# plot a sample image\n",
        "import matplotlib.pyplot as plt\n",
        "\n",
        "plt.imshow(train_data[6]);"
      ],
      "metadata": {
        "colab": {
          "base_uri": "https://localhost:8080/",
          "height": 448
        },
        "id": "X9a6gvn0jiY8",
        "outputId": "464bd0d1-cda4-4798-a211-daf7cf566963"
      },
      "execution_count": 5,
      "outputs": [
        {
          "output_type": "stream",
          "name": "stdout",
          "text": [
            "7\n"
          ]
        },
        {
          "output_type": "display_data",
          "data": {
            "text/plain": [
              "<Figure size 640x480 with 1 Axes>"
            ],
            "image/png": "[encoded data removed]"
          },
          "metadata": {}
        }
      ]
    },
    {
      "cell_type": "code",
      "source": [
        "# classifiying labels with actual human readable names\n",
        "\n",
        "class_name = [\"t_shirt/top\", \"Trouser\", \"Pullover\", \"Dress\", \"Coat\", \"Sandal\", \"Shirt\", \"Sneaker\", \"Bag\", \"Ankle boot\"]\n",
        "len(class_name)"
      ],
      "metadata": {
        "colab": {
          "base_uri": "https://localhost:8080/"
        },
        "id": "jOHgKpWbkAgs",
        "outputId": "aa250eb8-f10d-4ad0-998d-9ee2865a3ec4"
      },
      "execution_count": 6,
      "outputs": [
        {
          "output_type": "execute_result",
          "data": {
            "text/plain": [
              "10"
            ]
          },
          "metadata": {},
          "execution_count": 6
        }
      ]
    },
    {
      "cell_type": "code",
      "source": [
        "#plot an ecample image and its label\n",
        "index = 3000\n",
        "plt.imshow(train_data[index], cmap=plt.cm.binary)\n",
        "plt.title(class_name[train_labels[index]])"
      ],
      "metadata": {
        "colab": {
          "base_uri": "https://localhost:8080/",
          "height": 470
        },
        "id": "jIHxxTDHkzfj",
        "outputId": "d133ffb3-7991-44fd-b475-e2d24c323bed"
      },
      "execution_count": 12,
      "outputs": [
        {
          "output_type": "execute_result",
          "data": {
            "text/plain": [
              "Text(0.5, 1.0, 'Shirt')"
            ]
          },
          "metadata": {},
          "execution_count": 12
        },
        {
          "output_type": "display_data",
          "data": {
            "text/plain": [
              "<Figure size 640x480 with 1 Axes>"
            ],
            "image/png": "[encoded data removed]"
          },
          "metadata": {}
        }
      ]
    },
    {
      "cell_type": "code",
      "source": [
        "# plot multiple random images of fashion mnist\n",
        "import random\n",
        "\n",
        "plt.figure(figsize=(7, 7))\n",
        "for i in range(4):\n",
        "  ax = plt.subplot(2, 2, i + 1)\n",
        "  rand_index = random.choice(range(len(train_data)))\n",
        "  plt.imshow(train_data[rand_index], cmap=plt.cm.binary)\n",
        "  plt.title(class_name[train_labels[rand_index]])\n",
        "  plt.axis(False)"
      ],
      "metadata": {
        "colab": {
          "base_uri": "https://localhost:8080/",
          "height": 598
        },
        "id": "TFtzCGIIlfX2",
        "outputId": "8e1b0012-72b8-40ac-c2d9-9f7b1ca7dfe3"
      },
      "execution_count": 20,
      "outputs": [
        {
          "output_type": "display_data",
          "data": {
            "text/plain": [
              "<Figure size 700x700 with 4 Axes>"
            ],
            "image/png": "[encoded data removed]"
          },
          "metadata": {}
        }
      ]
    },
    {
      "cell_type": "markdown",
      "source": [
        "***you can run tha above code to see different image categories. this helps to visualise the kind of dataset im working on***"
      ],
      "metadata": {
        "id": "WNPhjnRhnPlX"
      }
    },
    {
      "cell_type": "code",
      "source": [
        "# Building a multiclass classification model\n",
        "\n",
        "tf.random.set_seed(42)\n",
        "\n",
        "model_1 = tf.keras.Sequential([\n",
        "    tf.keras.layers.Flatten(input_shape=(28, 28)),\n",
        "    tf.keras.layers.Dense(4, activation=\"relu\"),\n",
        "    tf.keras.layers.Dense(4, activation=\"relu\"),\n",
        "    tf.keras.layers.Dense(10, activation=\"softmax\")\n",
        "])\n",
        "\n",
        "#compiling the model\n",
        "\n",
        "model_1.compile(loss=tf.keras.losses.CategoricalCrossentropy(),\n",
        "                optimizer=tf.keras.optimizers.Adam(lr=0.2),\n",
        "                metrics=[\"accuracy\"])\n",
        "\n",
        "# fitting the model\n",
        "non_norm_history = model_1.fit(train_data,\n",
        "                               tf.one_hot(train_labels, depth=10),\n",
        "                               epochs=10,\n",
        "                               validation_data=(test_data, tf.one_hot(test_labels, depth=10)))"
      ],
      "metadata": {
        "colab": {
          "base_uri": "https://localhost:8080/"
        },
        "id": "JaL0uVn7nF2C",
        "outputId": "4f57e3f9-c82a-4330-a00a-19b9810c7d86"
      },
      "execution_count": 32,
      "outputs": [
        {
          "output_type": "stream",
          "name": "stderr",
          "text": [
            "WARNING:absl:`lr` is deprecated in Keras optimizer, please use `learning_rate` or use the legacy optimizer, e.g.,tf.keras.optimizers.legacy.Adam.\n"
          ]
        },
        {
          "output_type": "stream",
          "name": "stdout",
          "text": [
            "Epoch 1/10\n",
            "1875/1875 [==============================] - 7s 3ms/step - loss: 2.3244 - accuracy: 0.1243 - val_loss: 2.2134 - val_accuracy: 0.1376\n",
            "Epoch 2/10\n",
            "1875/1875 [==============================] - 6s 3ms/step - loss: 1.9825 - accuracy: 0.1904 - val_loss: 1.7274 - val_accuracy: 0.2455\n",
            "Epoch 3/10\n",
            "1875/1875 [==============================] - 5s 2ms/step - loss: 1.6541 - accuracy: 0.2877 - val_loss: 1.5975 - val_accuracy: 0.3224\n",
            "Epoch 4/10\n",
            "1875/1875 [==============================] - 6s 3ms/step - loss: 1.5695 - accuracy: 0.3269 - val_loss: 1.5525 - val_accuracy: 0.3319\n",
            "Epoch 5/10\n",
            "1875/1875 [==============================] - 5s 3ms/step - loss: 1.5303 - accuracy: 0.3393 - val_loss: 1.5176 - val_accuracy: 0.3480\n",
            "Epoch 6/10\n",
            "1875/1875 [==============================] - 5s 3ms/step - loss: 1.5061 - accuracy: 0.3467 - val_loss: 1.4902 - val_accuracy: 0.3517\n",
            "Epoch 7/10\n",
            "1875/1875 [==============================] - 6s 3ms/step - loss: 1.4890 - accuracy: 0.3545 - val_loss: 1.4818 - val_accuracy: 0.3574\n",
            "Epoch 8/10\n",
            "1875/1875 [==============================] - 5s 2ms/step - loss: 1.4695 - accuracy: 0.3623 - val_loss: 1.4590 - val_accuracy: 0.3782\n",
            "Epoch 9/10\n",
            "1875/1875 [==============================] - 6s 3ms/step - loss: 1.4489 - accuracy: 0.3775 - val_loss: 1.4681 - val_accuracy: 0.3734\n",
            "Epoch 10/10\n",
            "1875/1875 [==============================] - 4s 2ms/step - loss: 1.4383 - accuracy: 0.3846 - val_loss: 1.4365 - val_accuracy: 0.3940\n"
          ]
        }
      ]
    },
    {
      "cell_type": "code",
      "source": [
        "# we can get our training and testing data between 0 and 1 by dividing by the maximum -> normalisation\n",
        "\n",
        "train_data_norm = train_data / 255.0\n",
        "test_data_norm = test_data / 255.0\n",
        "\n",
        "train_data_norm.min(), train_data_norm.max()"
      ],
      "metadata": {
        "colab": {
          "base_uri": "https://localhost:8080/"
        },
        "id": "y1u3t_qxsoMq",
        "outputId": "c47b2505-2a03-486f-d327-5e9c6819d344"
      },
      "execution_count": 26,
      "outputs": [
        {
          "output_type": "execute_result",
          "data": {
            "text/plain": [
              "(0.0, 1.0)"
            ]
          },
          "metadata": {},
          "execution_count": 26
        }
      ]
    },
    {
      "cell_type": "code",
      "source": [
        "# building a model to fing patterns in our new noemalized data\n",
        "\n",
        "tf.random.set_seed(42)\n",
        "\n",
        "model_2 = tf.keras.Sequential([\n",
        "    tf.keras.layers.Flatten(input_shape=(28, 28)),\n",
        "    tf.keras.layers.Dense(4, activation=\"relu\"),\n",
        "    tf.keras.layers.Dense(4, activation=\"relu\"),\n",
        "    tf.keras.layers.Dense(10, activation=\"softmax\")\n",
        "])\n",
        "\n",
        "#compiling the model\n",
        "\n",
        "model_2.compile(loss=tf.keras.losses.SparseCategoricalCrossentropy(),\n",
        "                optimizer=tf.keras.optimizers.Adam(),\n",
        "                metrics=[\"accuracy\"])\n",
        "\n",
        "# fitting the model\n",
        "norm_history = model_2.fit(train_data_norm,\n",
        "                               train_labels,\n",
        "                               epochs=10,\n",
        "                               validation_data=(test_data_norm, test_labels))"
      ],
      "metadata": {
        "colab": {
          "base_uri": "https://localhost:8080/"
        },
        "id": "LAQ40TYCtLEZ",
        "outputId": "6938d476-cd39-4bc8-c84d-f09330bdaa9b"
      },
      "execution_count": 35,
      "outputs": [
        {
          "output_type": "stream",
          "name": "stdout",
          "text": [
            "Epoch 1/10\n",
            "1875/1875 [==============================] - 6s 3ms/step - loss: 1.2580 - accuracy: 0.4951 - val_loss: 0.8963 - val_accuracy: 0.6629\n",
            "Epoch 2/10\n",
            "1875/1875 [==============================] - 6s 3ms/step - loss: 0.7646 - accuracy: 0.7176 - val_loss: 0.7385 - val_accuracy: 0.7266\n",
            "Epoch 3/10\n",
            "1875/1875 [==============================] - 5s 3ms/step - loss: 0.6801 - accuracy: 0.7536 - val_loss: 0.7022 - val_accuracy: 0.7555\n",
            "Epoch 4/10\n",
            "1875/1875 [==============================] - 6s 3ms/step - loss: 0.6481 - accuracy: 0.7682 - val_loss: 0.6746 - val_accuracy: 0.7631\n",
            "Epoch 5/10\n",
            "1875/1875 [==============================] - 5s 3ms/step - loss: 0.6329 - accuracy: 0.7729 - val_loss: 0.6535 - val_accuracy: 0.7696\n",
            "Epoch 6/10\n",
            "1875/1875 [==============================] - 4s 2ms/step - loss: 0.6212 - accuracy: 0.7771 - val_loss: 0.6560 - val_accuracy: 0.7726\n",
            "Epoch 7/10\n",
            "1875/1875 [==============================] - 6s 3ms/step - loss: 0.6133 - accuracy: 0.7800 - val_loss: 0.6552 - val_accuracy: 0.7567\n",
            "Epoch 8/10\n",
            "1875/1875 [==============================] - 4s 2ms/step - loss: 0.6066 - accuracy: 0.7820 - val_loss: 0.6410 - val_accuracy: 0.7735\n",
            "Epoch 9/10\n",
            "1875/1875 [==============================] - 5s 3ms/step - loss: 0.6001 - accuracy: 0.7850 - val_loss: 0.6441 - val_accuracy: 0.7649\n",
            "Epoch 10/10\n",
            "1875/1875 [==============================] - 5s 3ms/step - loss: 0.5963 - accuracy: 0.7868 - val_loss: 0.6334 - val_accuracy: 0.7718\n"
          ]
        }
      ]
    },
    {
      "cell_type": "markdown",
      "source": [
        "**NEURO NETWORKS TEND TO PREFER DATA IN NUMERICAL FORM SPECIFICALLY NORMALIZED ONES**"
      ],
      "metadata": {
        "id": "53742rXuufKX"
      }
    },
    {
      "cell_type": "code",
      "source": [
        "import pandas as pd\n",
        "\n",
        "# plot non-normalized data loss curves\n",
        "pd.DataFrame(non_norm_history.history).plot(title=\"non normalised data\")\n",
        "\n",
        "# plot normalized data loss curves\n",
        "pd.DataFrame(norm_history.history).plot(title=\"normalized data\")\n"
      ],
      "metadata": {
        "colab": {
          "base_uri": "https://localhost:8080/",
          "height": 905
        },
        "id": "Evp8xs_ru7rB",
        "outputId": "7c8a09a7-1b46-4135-b920-df345bd53162"
      },
      "execution_count": 36,
      "outputs": [
        {
          "output_type": "execute_result",
          "data": {
            "text/plain": [
              "<Axes: title={'center': 'normalized data'}>"
            ]
          },
          "metadata": {},
          "execution_count": 36
        },
        {
          "output_type": "display_data",
          "data": {
            "text/plain": [
              "<Figure size 640x480 with 1 Axes>"
            ],
            "image/png": "[encoded data removed]"
          },
          "metadata": {}
        },
        {
          "output_type": "display_data",
          "data": {
            "text/plain": [
              "<Figure size 640x480 with 1 Axes>"
            ],
            "image/png": "[encoded data removed]"
          },
          "metadata": {}
        }
      ]
    },
    {
      "cell_type": "code",
      "source": [
        "# finding the ideal learning rate\n",
        "\n",
        "tf.random.set_seed(42)\n",
        "\n",
        "# createa  new model\n",
        "\n",
        "model_3 = tf.keras.Sequential([\n",
        "    tf.keras.layers.Flatten(input_shape=(28, 28)),\n",
        "    tf.keras.layers.Dense(4, activation=\"relu\"),\n",
        "    tf.keras.layers.Dense(4, activation=\"relu\"),\n",
        "    tf.keras.layers.Dense(10, activation=\"softmax\")\n",
        "])\n",
        "\n",
        "# Compile model 3\n",
        "model_3.compile(loss=tf.keras.losses.SparseCategoricalCrossentropy(),\n",
        "                optimizer=tf.keras.optimizers.Adam(),\n",
        "                metrics=[\"accuracy\"])\n",
        "#create learning rate callback\n",
        "lr_scheduler = tf.keras.callbacks.LearningRateScheduler(lambda epoch: 1e-3 * 10**(epoch/20))\n",
        "\n",
        "# fit the model\n",
        "fit_lr_history = model_3.fit(train_data_norm,\n",
        "                             train_labels,\n",
        "                             epochs=40,\n",
        "                             validation_data=(test_data_norm, test_labels),\n",
        "                             callbacks=[lr_scheduler])"
      ],
      "metadata": {
        "colab": {
          "base_uri": "https://localhost:8080/"
        },
        "id": "h0jsfPANwziu",
        "outputId": "2f64347f-bddf-4938-e8fb-f2a71006e92b"
      },
      "execution_count": 38,
      "outputs": [
        {
          "output_type": "stream",
          "name": "stdout",
          "text": [
            "Epoch 1/40\n",
            "1875/1875 [==============================] - 7s 3ms/step - loss: 1.2353 - accuracy: 0.5063 - val_loss: 0.8539 - val_accuracy: 0.6812 - lr: 0.0010\n",
            "Epoch 2/40\n",
            "1875/1875 [==============================] - 5s 2ms/step - loss: 0.7323 - accuracy: 0.7404 - val_loss: 0.6830 - val_accuracy: 0.7651 - lr: 0.0011\n",
            "Epoch 3/40\n",
            "1875/1875 [==============================] - 6s 3ms/step - loss: 0.6048 - accuracy: 0.7913 - val_loss: 0.6400 - val_accuracy: 0.7724 - lr: 0.0013\n",
            "Epoch 4/40\n",
            "1875/1875 [==============================] - 4s 2ms/step - loss: 0.5645 - accuracy: 0.8045 - val_loss: 0.5784 - val_accuracy: 0.8047 - lr: 0.0014\n",
            "Epoch 5/40\n",
            "1875/1875 [==============================] - 5s 2ms/step - loss: 0.5468 - accuracy: 0.8102 - val_loss: 0.5874 - val_accuracy: 0.7976 - lr: 0.0016\n",
            "Epoch 6/40\n",
            "1875/1875 [==============================] - 6s 3ms/step - loss: 0.5349 - accuracy: 0.8138 - val_loss: 0.6110 - val_accuracy: 0.7878 - lr: 0.0018\n",
            "Epoch 7/40\n",
            "1875/1875 [==============================] - 5s 2ms/step - loss: 0.5288 - accuracy: 0.8157 - val_loss: 0.5610 - val_accuracy: 0.8081 - lr: 0.0020\n",
            "Epoch 8/40\n",
            "1875/1875 [==============================] - 6s 3ms/step - loss: 0.5218 - accuracy: 0.8183 - val_loss: 0.5623 - val_accuracy: 0.8073 - lr: 0.0022\n",
            "Epoch 9/40\n",
            "1875/1875 [==============================] - 5s 3ms/step - loss: 0.5149 - accuracy: 0.8219 - val_loss: 0.5716 - val_accuracy: 0.8051 - lr: 0.0025\n",
            "Epoch 10/40\n",
            "1875/1875 [==============================] - 5s 2ms/step - loss: 0.5125 - accuracy: 0.8231 - val_loss: 0.5777 - val_accuracy: 0.8003 - lr: 0.0028\n",
            "Epoch 11/40\n",
            "1875/1875 [==============================] - 6s 3ms/step - loss: 0.5135 - accuracy: 0.8204 - val_loss: 0.5411 - val_accuracy: 0.8158 - lr: 0.0032\n",
            "Epoch 12/40\n",
            "1875/1875 [==============================] - 5s 2ms/step - loss: 0.5103 - accuracy: 0.8231 - val_loss: 0.5565 - val_accuracy: 0.8126 - lr: 0.0035\n",
            "Epoch 13/40\n",
            "1875/1875 [==============================] - 5s 3ms/step - loss: 0.5091 - accuracy: 0.8226 - val_loss: 0.5596 - val_accuracy: 0.8118 - lr: 0.0040\n",
            "Epoch 14/40\n",
            "1875/1875 [==============================] - 5s 3ms/step - loss: 0.5098 - accuracy: 0.8243 - val_loss: 0.5572 - val_accuracy: 0.8105 - lr: 0.0045\n",
            "Epoch 15/40\n",
            "1875/1875 [==============================] - 5s 3ms/step - loss: 0.5083 - accuracy: 0.8249 - val_loss: 0.5438 - val_accuracy: 0.8156 - lr: 0.0050\n",
            "Epoch 16/40\n",
            "1875/1875 [==============================] - 6s 3ms/step - loss: 0.5135 - accuracy: 0.8242 - val_loss: 0.5356 - val_accuracy: 0.8169 - lr: 0.0056\n",
            "Epoch 17/40\n",
            "1875/1875 [==============================] - 4s 2ms/step - loss: 0.5094 - accuracy: 0.8256 - val_loss: 0.5901 - val_accuracy: 0.8007 - lr: 0.0063\n",
            "Epoch 18/40\n",
            "1875/1875 [==============================] - 6s 3ms/step - loss: 0.5148 - accuracy: 0.8230 - val_loss: 0.5359 - val_accuracy: 0.8168 - lr: 0.0071\n",
            "Epoch 19/40\n",
            "1875/1875 [==============================] - 5s 2ms/step - loss: 0.5157 - accuracy: 0.8224 - val_loss: 0.5642 - val_accuracy: 0.8097 - lr: 0.0079\n",
            "Epoch 20/40\n",
            "1875/1875 [==============================] - 4s 2ms/step - loss: 0.5206 - accuracy: 0.8209 - val_loss: 0.5440 - val_accuracy: 0.8151 - lr: 0.0089\n",
            "Epoch 21/40\n",
            "1875/1875 [==============================] - 6s 3ms/step - loss: 0.5266 - accuracy: 0.8206 - val_loss: 0.6616 - val_accuracy: 0.7728 - lr: 0.0100\n",
            "Epoch 22/40\n",
            "1875/1875 [==============================] - 4s 2ms/step - loss: 0.5292 - accuracy: 0.8202 - val_loss: 0.5740 - val_accuracy: 0.8046 - lr: 0.0112\n",
            "Epoch 23/40\n",
            "1875/1875 [==============================] - 5s 3ms/step - loss: 0.5397 - accuracy: 0.8157 - val_loss: 0.5802 - val_accuracy: 0.8056 - lr: 0.0126\n",
            "Epoch 24/40\n",
            "1875/1875 [==============================] - 6s 3ms/step - loss: 0.5466 - accuracy: 0.8131 - val_loss: 0.5790 - val_accuracy: 0.8093 - lr: 0.0141\n",
            "Epoch 25/40\n",
            "1875/1875 [==============================] - 5s 3ms/step - loss: 0.5538 - accuracy: 0.8114 - val_loss: 0.5796 - val_accuracy: 0.8094 - lr: 0.0158\n",
            "Epoch 26/40\n",
            "1875/1875 [==============================] - 5s 2ms/step - loss: 0.5629 - accuracy: 0.8109 - val_loss: 0.7128 - val_accuracy: 0.7538 - lr: 0.0178\n",
            "Epoch 27/40\n",
            "1875/1875 [==============================] - 5s 2ms/step - loss: 0.5793 - accuracy: 0.8063 - val_loss: 0.6216 - val_accuracy: 0.7918 - lr: 0.0200\n",
            "Epoch 28/40\n",
            "1875/1875 [==============================] - 5s 3ms/step - loss: 0.5896 - accuracy: 0.8036 - val_loss: 0.6025 - val_accuracy: 0.8002 - lr: 0.0224\n",
            "Epoch 29/40\n",
            "1875/1875 [==============================] - 5s 2ms/step - loss: 0.6109 - accuracy: 0.7980 - val_loss: 0.6145 - val_accuracy: 0.8007 - lr: 0.0251\n",
            "Epoch 30/40\n",
            "1875/1875 [==============================] - 5s 2ms/step - loss: 0.6439 - accuracy: 0.7900 - val_loss: 0.6655 - val_accuracy: 0.7876 - lr: 0.0282\n",
            "Epoch 31/40\n",
            "1875/1875 [==============================] - 5s 3ms/step - loss: 0.6623 - accuracy: 0.7865 - val_loss: 0.6334 - val_accuracy: 0.8001 - lr: 0.0316\n",
            "Epoch 32/40\n",
            "1875/1875 [==============================] - 5s 2ms/step - loss: 0.6736 - accuracy: 0.7826 - val_loss: 0.7761 - val_accuracy: 0.7202 - lr: 0.0355\n",
            "Epoch 33/40\n",
            "1875/1875 [==============================] - 6s 3ms/step - loss: 0.7413 - accuracy: 0.7578 - val_loss: 0.6801 - val_accuracy: 0.7879 - lr: 0.0398\n",
            "Epoch 34/40\n",
            "1875/1875 [==============================] - 4s 2ms/step - loss: 0.7757 - accuracy: 0.7448 - val_loss: 0.8964 - val_accuracy: 0.6502 - lr: 0.0447\n",
            "Epoch 35/40\n",
            "1875/1875 [==============================] - 4s 2ms/step - loss: 0.8500 - accuracy: 0.7170 - val_loss: 1.0080 - val_accuracy: 0.6896 - lr: 0.0501\n",
            "Epoch 36/40\n",
            "1875/1875 [==============================] - 6s 3ms/step - loss: 1.1676 - accuracy: 0.5685 - val_loss: 1.0086 - val_accuracy: 0.5658 - lr: 0.0562\n",
            "Epoch 37/40\n",
            "1875/1875 [==============================] - 5s 2ms/step - loss: 1.2334 - accuracy: 0.4807 - val_loss: 1.2148 - val_accuracy: 0.5032 - lr: 0.0631\n",
            "Epoch 38/40\n",
            "1875/1875 [==============================] - 6s 3ms/step - loss: 1.2660 - accuracy: 0.4801 - val_loss: 1.5486 - val_accuracy: 0.3566 - lr: 0.0708\n",
            "Epoch 39/40\n",
            "1875/1875 [==============================] - 5s 2ms/step - loss: 1.5228 - accuracy: 0.3494 - val_loss: 1.6447 - val_accuracy: 0.2785 - lr: 0.0794\n",
            "Epoch 40/40\n",
            "1875/1875 [==============================] - 4s 2ms/step - loss: 1.7731 - accuracy: 0.2106 - val_loss: 1.8226 - val_accuracy: 0.1829 - lr: 0.0891\n"
          ]
        }
      ]
    },
    {
      "cell_type": "code",
      "source": [
        "# plot the learning rate decay curve\n",
        "import numpy as np\n",
        "import matplotlib.pyplot as plt\n",
        "\n",
        "lrs = 1e-3 * (10**(tf.range(40)/20))\n",
        "\n",
        "plt.semilogx(lrs, fit_lr_history.history[\"loss\"])\n",
        "plt.xlabel(\"Learning rate\")\n",
        "plt.ylabel(\"Loss\")\n",
        "plt.title(\"finding the ideal learning rate\")"
      ],
      "metadata": {
        "colab": {
          "base_uri": "https://localhost:8080/",
          "height": 494
        },
        "id": "SvqAFAdW0ObF",
        "outputId": "7f485929-e608-4223-e212-ce4f80c4f401"
      },
      "execution_count": 39,
      "outputs": [
        {
          "output_type": "execute_result",
          "data": {
            "text/plain": [
              "Text(0.5, 1.0, 'finding the ideal learning rate')"
            ]
          },
          "metadata": {},
          "execution_count": 39
        },
        {
          "output_type": "display_data",
          "data": {
            "text/plain": [
              "<Figure size 640x480 with 1 Axes>"
            ],
            "image/png": "[encoded data removed]"
          },
          "metadata": {}
        }
      ]
    },
    {
      "cell_type": "code",
      "source": [
        "10 ** -3"
      ],
      "metadata": {
        "colab": {
          "base_uri": "https://localhost:8080/"
        },
        "id": "bqOk2N2l1Nk3",
        "outputId": "9c38d71c-8e7e-42bb-9a30-dc5dfc4823db"
      },
      "execution_count": 40,
      "outputs": [
        {
          "output_type": "execute_result",
          "data": {
            "text/plain": [
              "0.001"
            ]
          },
          "metadata": {},
          "execution_count": 40
        }
      ]
    },
    {
      "cell_type": "code",
      "source": [
        "# Let's refit the model with the ideal rearning rate\n",
        "\n",
        "tf.random.set_seed(42)\n",
        "\n",
        "model_4 = tf.keras.Sequential([\n",
        "    tf.keras.layers.Flatten(input_shape=(28, 28)),\n",
        "    tf.keras.layers.Dense(4, activation=\"relu\"),\n",
        "    tf.keras.layers.Dense(4, activation=\"relu\"),\n",
        "    tf.keras.layers.Dense(10, activation=\"softmax\")\n",
        "])\n",
        "\n",
        "# compile the model\n",
        "model_4.compile(loss=tf.keras.losses.SparseCategoricalCrossentropy(),\n",
        "                optimizer=tf.keras.optimizers.Adam(learning_rate=0.001),\n",
        "                metrics=[\"accuracy\"])\n",
        "\n",
        "# fit the model\n",
        "history_4 = model_4.fit(train_data_norm,\n",
        "                        train_labels,\n",
        "                        epochs=20,\n",
        "                        validation_data=(test_data_norm, test_labels))"
      ],
      "metadata": {
        "colab": {
          "base_uri": "https://localhost:8080/"
        },
        "id": "uHiYwy4U1Q6z",
        "outputId": "fca8c19c-a57c-4b29-8f36-0f8fc1ffe99b"
      },
      "execution_count": 42,
      "outputs": [
        {
          "output_type": "stream",
          "name": "stdout",
          "text": [
            "Epoch 1/20\n",
            "1875/1875 [==============================] - 10s 5ms/step - loss: 1.3033 - accuracy: 0.5294 - val_loss: 0.9213 - val_accuracy: 0.6666\n",
            "Epoch 2/20\n",
            "1875/1875 [==============================] - 5s 3ms/step - loss: 0.8133 - accuracy: 0.7038 - val_loss: 0.7681 - val_accuracy: 0.7201\n",
            "Epoch 3/20\n",
            "1875/1875 [==============================] - 6s 3ms/step - loss: 0.6713 - accuracy: 0.7665 - val_loss: 0.6606 - val_accuracy: 0.7747\n",
            "Epoch 4/20\n",
            "1875/1875 [==============================] - 5s 2ms/step - loss: 0.6127 - accuracy: 0.7895 - val_loss: 0.6288 - val_accuracy: 0.7855\n",
            "Epoch 5/20\n",
            "1875/1875 [==============================] - 5s 3ms/step - loss: 0.5885 - accuracy: 0.7965 - val_loss: 0.6331 - val_accuracy: 0.7813\n",
            "Epoch 6/20\n",
            "1875/1875 [==============================] - 5s 3ms/step - loss: 0.5706 - accuracy: 0.8016 - val_loss: 0.6217 - val_accuracy: 0.7801\n",
            "Epoch 7/20\n",
            "1875/1875 [==============================] - 4s 2ms/step - loss: 0.5600 - accuracy: 0.8068 - val_loss: 0.6197 - val_accuracy: 0.7815\n",
            "Epoch 8/20\n",
            "1875/1875 [==============================] - 6s 3ms/step - loss: 0.5504 - accuracy: 0.8084 - val_loss: 0.5822 - val_accuracy: 0.8015\n",
            "Epoch 9/20\n",
            "1875/1875 [==============================] - 5s 3ms/step - loss: 0.5424 - accuracy: 0.8119 - val_loss: 0.5691 - val_accuracy: 0.8053\n",
            "Epoch 10/20\n",
            "1875/1875 [==============================] - 6s 3ms/step - loss: 0.5368 - accuracy: 0.8152 - val_loss: 0.5600 - val_accuracy: 0.8043\n",
            "Epoch 11/20\n",
            "1875/1875 [==============================] - 5s 3ms/step - loss: 0.5316 - accuracy: 0.8167 - val_loss: 0.5586 - val_accuracy: 0.8050\n",
            "Epoch 12/20\n",
            "1875/1875 [==============================] - 5s 2ms/step - loss: 0.5265 - accuracy: 0.8183 - val_loss: 0.5586 - val_accuracy: 0.8072\n",
            "Epoch 13/20\n",
            "1875/1875 [==============================] - 6s 3ms/step - loss: 0.5240 - accuracy: 0.8192 - val_loss: 0.5510 - val_accuracy: 0.8124\n",
            "Epoch 14/20\n",
            "1875/1875 [==============================] - 5s 2ms/step - loss: 0.5202 - accuracy: 0.8194 - val_loss: 0.5559 - val_accuracy: 0.8095\n",
            "Epoch 15/20\n",
            "1875/1875 [==============================] - 6s 3ms/step - loss: 0.5169 - accuracy: 0.8211 - val_loss: 0.5583 - val_accuracy: 0.8085\n",
            "Epoch 16/20\n",
            "1875/1875 [==============================] - 5s 3ms/step - loss: 0.5153 - accuracy: 0.8227 - val_loss: 0.5615 - val_accuracy: 0.8085\n",
            "Epoch 17/20\n",
            "1875/1875 [==============================] - 5s 3ms/step - loss: 0.5119 - accuracy: 0.8238 - val_loss: 0.5464 - val_accuracy: 0.8099\n",
            "Epoch 18/20\n",
            "1875/1875 [==============================] - 5s 3ms/step - loss: 0.5105 - accuracy: 0.8226 - val_loss: 0.5422 - val_accuracy: 0.8156\n",
            "Epoch 19/20\n",
            "1875/1875 [==============================] - 4s 2ms/step - loss: 0.5079 - accuracy: 0.8242 - val_loss: 0.5461 - val_accuracy: 0.8135\n",
            "Epoch 20/20\n",
            "1875/1875 [==============================] - 6s 3ms/step - loss: 0.5063 - accuracy: 0.8246 - val_loss: 0.5491 - val_accuracy: 0.8126\n"
          ]
        }
      ]
    },
    {
      "cell_type": "markdown",
      "source": [
        "## Evaluating the multiclass Classification model"
      ],
      "metadata": {
        "id": "gmNGzGuC3W9v"
      }
    },
    {
      "cell_type": "code",
      "source": [
        "# make some predicitions with the model\n",
        "\n",
        "y_probs = model_4.predict(test_data_norm)\n",
        "\n",
        "# visualize the first probabilities\n",
        "y_probs[0]"
      ],
      "metadata": {
        "colab": {
          "base_uri": "https://localhost:8080/"
        },
        "id": "JaqWvtWX3JR_",
        "outputId": "f4ed0a60-fe8c-4a44-fc2d-57cea14492ac"
      },
      "execution_count": 45,
      "outputs": [
        {
          "output_type": "stream",
          "name": "stdout",
          "text": [
            "313/313 [==============================] - 1s 3ms/step\n"
          ]
        },
        {
          "output_type": "execute_result",
          "data": {
            "text/plain": [
              "array([0.00620748, 0.0012159 , 0.00335565, 0.00167631, 0.0008778 ,\n",
              "       0.52624726, 0.0042906 , 0.13946435, 0.0403226 , 0.27634215],\n",
              "      dtype=float32)"
            ]
          },
          "metadata": {},
          "execution_count": 45
        }
      ]
    },
    {
      "cell_type": "code",
      "source": [
        "class_name[tf.argmax(y_probs[0])]"
      ],
      "metadata": {
        "colab": {
          "base_uri": "https://localhost:8080/",
          "height": 36
        },
        "id": "Kj-0iHoO68xF",
        "outputId": "a9a8caa2-db9b-4bbc-953e-daf8c9751970"
      },
      "execution_count": 47,
      "outputs": [
        {
          "output_type": "execute_result",
          "data": {
            "text/plain": [
              "'Sandal'"
            ],
            "application/vnd.google.colaboratory.intrinsic+json": {
              "type": "string"
            }
          },
          "metadata": {},
          "execution_count": 47
        }
      ]
    },
    {
      "cell_type": "code",
      "source": [
        "# convert the predictions to integers\n",
        "y_preds = y_probs.argmax(axis=1)\n",
        "\n",
        "# viewing the 1st 10 labels\n",
        "y_preds[:10], test_labels[:10]"
      ],
      "metadata": {
        "colab": {
          "base_uri": "https://localhost:8080/"
        },
        "id": "PhtIMMAA7QbG",
        "outputId": "5d744de3-02d4-4190-fd0a-26ae4e8860aa"
      },
      "execution_count": 50,
      "outputs": [
        {
          "output_type": "execute_result",
          "data": {
            "text/plain": [
              "(array([5, 2, 1, 1, 6, 1, 8, 6, 5, 7]),\n",
              " array([9, 2, 1, 1, 6, 1, 4, 6, 5, 7], dtype=uint8))"
            ]
          },
          "metadata": {},
          "execution_count": 50
        }
      ]
    },
    {
      "cell_type": "markdown",
      "source": [
        "## It's a good idea to visualize how the model is performing with the predictions"
      ],
      "metadata": {
        "id": "8cp7Di8B91uv"
      }
    },
    {
      "cell_type": "code",
      "source": [
        "import random\n",
        "import matplotlib.pyplot as plt\n",
        "\n",
        "def plot_random_image(model, images, true_labels, classes):\n",
        "  \"\"\"\n",
        "  picks a random image  labels witha prediction with truth label\n",
        "  \"\"\"\n",
        "  # set up random integer\n",
        "  i = random.randint(0, len(images))\n",
        "\n",
        "  # Create predictions and target\n",
        "  target_image = images[i]\n",
        "  pred_probs = model.predict(target_image.reshape(1, 28, 28))\n",
        "  pred_label = classes[pred_probs.argmax()]\n",
        "  true_label = classes[true_labels[i]]\n",
        "\n",
        "  # plot the image\n",
        "  plt.imshow(target_image, cmap=plt.cm.binary)\n",
        "\n",
        "  #change the color of the titles depending on if the prediction is right or wrong\n",
        "  if pred_label == true_label:\n",
        "    color = \"green\"\n",
        "  else:\n",
        "    color = \"red\"\n",
        "\n",
        "  # Add label info (prediction/true label)\n",
        "  plt.xlabel(\"Pred: {} {:2.0f}% (True: {})\".format(pred_label,\n",
        "                                                   100*tf.reduce_max(pred_probs),\n",
        "                                                   true_label),\n",
        "  color=color)"
      ],
      "metadata": {
        "id": "pGSpn0xl99Ue"
      },
      "execution_count": 59,
      "outputs": []
    },
    {
      "cell_type": "code",
      "source": [
        "# Checkign out the random image as well as it's prediction\n",
        "plot_random_image(model=model_4,\n",
        "                  images=test_data_norm,\n",
        "                  true_labels=test_labels,\n",
        "                  classes=class_name)"
      ],
      "metadata": {
        "colab": {
          "base_uri": "https://localhost:8080/",
          "height": 467
        },
        "id": "ZuYmE3yC_3t3",
        "outputId": "4839d77a-0ec8-4801-eaa5-58640256ac18"
      },
      "execution_count": 93,
      "outputs": [
        {
          "output_type": "stream",
          "name": "stdout",
          "text": [
            "1/1 [==============================] - 0s 21ms/step\n"
          ]
        },
        {
          "output_type": "display_data",
          "data": {
            "text/plain": [
              "<Figure size 640x480 with 1 Axes>"
            ],
            "image/png": "[encoded data removed]"
          },
          "metadata": {}
        }
      ]
    }
  ]
}